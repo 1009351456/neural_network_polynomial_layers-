{
 "cells": [
  {
   "cell_type": "markdown",
   "metadata": {},
   "source": [
    "This demo shows that our method is **resilient to overfitting**."
   ]
  },
  {
   "cell_type": "code",
   "execution_count": 1,
   "metadata": {},
   "outputs": [],
   "source": [
    "import AlgPoly as ap\n",
    "import numpy as np\n",
    "import PolyNN\n",
    "import matplotlib.pyplot as plt\n",
    "import random as rd"
   ]
  },
  {
   "cell_type": "markdown",
   "metadata": {},
   "source": [
    "We will train the following (very simple) polynomial network. This will amount to do a polynomial regression."
   ]
  },
  {
   "cell_type": "code",
   "execution_count": 2,
   "metadata": {},
   "outputs": [],
   "source": [
    "net = PolyNN.PolyNN([1,1],PolyNN.identity,[3])"
   ]
  },
  {
   "cell_type": "markdown",
   "metadata": {},
   "source": [
    "net will learn to be the following polynomial P :"
   ]
  },
  {
   "cell_type": "code",
   "execution_count": 3,
   "metadata": {},
   "outputs": [],
   "source": [
    "#P=2X^2 + 3X +1\n",
    "P = ap.Polynomial({():1, (0,):-3 , (0,0) : 2, (0,0,0) : 1})"
   ]
  },
  {
   "cell_type": "markdown",
   "metadata": {},
   "source": [
    "We now create a training data with 10% noise."
   ]
  },
  {
   "cell_type": "code",
   "execution_count": 4,
   "metadata": {},
   "outputs": [],
   "source": [
    "training_data = []\n",
    "for i in range(100000):\n",
    "    x =  10 *np.random.rand(1)\n",
    "    if rd.random()>0.1 :\n",
    "        y = P.raw_evaluate(x) + np.random.normal(0,0.1) #90% of the time, we have a almost correct output\n",
    "    else :\n",
    "        y = P.raw_evaluate([10]) * np.random.rand(1) #the rest is utter noise\n",
    "    training_data.append((x,y))"
   ]
  },
  {
   "cell_type": "markdown",
   "metadata": {},
   "source": [
    "We train net. \n",
    "\n",
    "The noise shouldn't affect the training too much since for each step net does trying to learn noise, it makes 9 correct learning steps."
   ]
  },
  {
   "cell_type": "code",
   "execution_count": null,
   "metadata": {},
   "outputs": [
    {
     "data": {
      "text/plain": [
       "'for i in range(3):\\n    for (x,y) in training_data:\\n        net.steplearning(x,y,0.1,normalize=True)'"
      ]
     },
     "execution_count": 5,
     "metadata": {},
     "output_type": "execute_result"
    }
   ],
   "source": [
    "\"\"\"for i in range(3):\n",
    "    for (x,y) in training_data:\n",
    "        net.steplearning(x,y,0.1,normalize=True)\"\"\""
   ]
  },
  {
   "cell_type": "code",
   "execution_count": null,
   "metadata": {},
   "outputs": [
    {
     "name": "stdout",
     "output_type": "stream",
     "text": [
      "epoch 1/5 complete\n",
      "\n",
      "epoch 2/5 complete\n",
      "\n",
      "epoch 3/5 complete\n",
      "\n",
      "epoch 4/5 complete\n",
      "\n"
     ]
    }
   ],
   "source": [
    "net.batchlearning(training_data, batch_size=10, eta=0.1, nb_epochs=5, normalize=True)"
   ]
  },
  {
   "cell_type": "markdown",
   "metadata": {},
   "source": [
    "Let's plot our training data (blue points) and see what our network predicts now that it is trained (red curve)"
   ]
  },
  {
   "cell_type": "code",
   "execution_count": null,
   "metadata": {},
   "outputs": [],
   "source": [
    "training_x = [x for (x,y) in training_data]\n",
    "training_y = [y for (x,y) in training_data]\n",
    "t = np.linspace(0,10,1000)\n",
    "network_predictions = [net.feedForward(np.array([x])) for x in t]\n",
    "plt.figure(figsize=(10,6))\n",
    "plt.scatter(training_x,training_y,s=0.5,c=(0.2,0.4,0.6,0.5)) #a scatter view of our training set\n",
    "plt.plot(t,network_predictions,'r')\n",
    "plt.savefig('screenshots/regression_with_noise.png',dpi=100)\n",
    "plt.show()"
   ]
  },
  {
   "cell_type": "markdown",
   "metadata": {},
   "source": [
    "The network predictions are slightly to high : \n",
    "\n",
    "That's because the area above the graph of the polynomial P is greater than the area below. Hence, our network is slightly more attracted by the noise above that graph."
   ]
  }
 ],
 "metadata": {
  "kernelspec": {
   "display_name": "Python [default]",
   "language": "python",
   "name": "python3"
  },
  "language_info": {
   "codemirror_mode": {
    "name": "ipython",
    "version": 3
   },
   "file_extension": ".py",
   "mimetype": "text/x-python",
   "name": "python",
   "nbconvert_exporter": "python",
   "pygments_lexer": "ipython3",
   "version": "3.6.7"
  }
 },
 "nbformat": 4,
 "nbformat_minor": 2
}
